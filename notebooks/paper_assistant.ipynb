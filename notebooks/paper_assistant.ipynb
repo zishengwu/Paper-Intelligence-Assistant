{
 "cells": [
  {
   "cell_type": "code",
   "execution_count": null,
   "id": "73b6b05c-7d3b-4b99-95f9-2ceed64c6e2c",
   "metadata": {},
   "outputs": [],
   "source": [
    "pip install modelscope\n",
    "pip install accelerate\n",
    "pip install pdfplumber"
   ]
  },
  {
   "cell_type": "code",
   "execution_count": null,
   "id": "cfb99d70-c7c6-43b5-9f4a-24775936c9b5",
   "metadata": {
    "ExecutionIndicator": {
     "show": true
    },
    "tags": []
   },
   "outputs": [],
   "source": [
    "from modelscope import AutoTokenizer, AutoModel, snapshot_download\n",
    "import torch\n",
    "model_dir = snapshot_download(\"ZhipuAI/chatglm3-6b-32k\", revision = \"v1.0.0\")\n",
    "tokenizer = AutoTokenizer.from_pretrained(model_dir, trust_remote_code=True)\n",
    "\n",
    "model = AutoModel.from_pretrained(model_dir,trust_remote_code=True).quantize(8).cuda()\n",
    "model = model.eval()"
   ]
  },
  {
   "cell_type": "code",
   "execution_count": 2,
   "id": "653f2831-b7a6-4144-8cce-a4a063bce8e3",
   "metadata": {
    "execution": {
     "iopub.execute_input": "2023-11-30T14:48:26.991164Z",
     "iopub.status.busy": "2023-11-30T14:48:26.990858Z",
     "iopub.status.idle": "2023-11-30T14:48:27.036977Z",
     "shell.execute_reply": "2023-11-30T14:48:27.036198Z",
     "shell.execute_reply.started": "2023-11-30T14:48:26.991139Z"
    }
   },
   "outputs": [],
   "source": [
    "import pdfplumber as ppl\n",
    "\n",
    "# page_center是一个经验值，即pdf文档页面中间的x坐标，用于把字符分成左右两部分\n",
    "def extract_paper(filename, page_center=290):\n",
    "\n",
    "    def _is_chinese(word):\n",
    "        for ch in word:\n",
    "            if '\\u4e00' <= ch <= '\\u9fff':\n",
    "                return True\n",
    "        return False\n",
    "        \n",
    "    pdf = ppl.open(filename)\n",
    "    paras = []\n",
    "    for page in pdf.pages:\n",
    "        page_words = page.extract_words()\n",
    "        # x0：单词的第一个字符的x坐标\n",
    "        # x1：单词的最后一个字符的x坐标\n",
    "        # top：单词的第一个字符的y坐标\n",
    "        sentence = [[word['text'], round(word['x0']), round(word['x1']), round(word['top'])] for word in page_words]\n",
    "        rows = []\n",
    "        tmp = []\n",
    "        for word in sentence:\n",
    "            # 前后单词y坐标相差大于4（这里4也是一个经验值，一般不超过10），说明不是同一行\n",
    "            if tmp and abs(word[-1] - tmp[-1][-1]) > 4:\n",
    "                # 另起一行\n",
    "                rows.append(tmp)\n",
    "                tmp = []\n",
    "            tmp.append(word)\n",
    "        if tmp:\n",
    "            rows.append(tmp)\n",
    "\n",
    "        rows_in_page = []\n",
    "        left_block, right_block = [], []\n",
    "\n",
    "        for row in rows:\n",
    "            is_two_columns=False\n",
    "            row_left, row_right = [], []\n",
    "            # row是一个二维list，表示一行的内容，形式如：[[text, x0, x1, top], [[text, x0, x1, top]], ...]\n",
    "            for i in range(len(row)):\n",
    "\n",
    "                # 用单词最后一个字符的x坐标判断属于左边还是右边\n",
    "                if row[i][2]<page_center:\n",
    "                    row_left.append(row[i])\n",
    "                else:\n",
    "                    row_right.append(row[i])\n",
    "                # 前后两个单词相距超过10（说明中间有较长的空白），并且前后两个单词分别属于左右两边，则说明这一行是列式布局\n",
    "                if i>0 and row[i][1]- row[i-1][2]>10 and row[i][1]>page_center and row[i-1][2]<page_center:\n",
    "                    is_two_columns=True\n",
    "            if is_two_columns:\n",
    "                left_block.extend(row_left)\n",
    "                right_block.extend(row_right)\n",
    "            else:\n",
    "                # 把之前的left和right添加，先左后右\n",
    "                if left_block:\n",
    "                    rows_in_page.extend(left_block)\n",
    "                if right_block:\n",
    "                    rows_in_page.extend(right_block)\n",
    "                # 这一行不是列式布局，则正常添加当前行\n",
    "                rows_in_page.extend(row)\n",
    "                \n",
    "                left_block=[]\n",
    "                right_block=[]\n",
    "\n",
    "        # 中英文字符空格处理\n",
    "        txt = [x[0] if _is_chinese(x[0]) else ' '+x[0] for x in rows_in_page]\n",
    "        paras.extend(txt)\n",
    "\n",
    "    return \"\".join(paras)"
   ]
  },
  {
   "cell_type": "code",
   "execution_count": 5,
   "id": "eb224573-51e2-4c6f-b8e4-83753399a76f",
   "metadata": {
    "ExecutionIndicator": {
     "show": true
    },
    "execution": {
     "iopub.execute_input": "2023-11-30T14:50:45.305075Z",
     "iopub.status.busy": "2023-11-30T14:50:45.304594Z",
     "iopub.status.idle": "2023-11-30T14:50:47.557650Z",
     "shell.execute_reply": "2023-11-30T14:50:47.556854Z",
     "shell.execute_reply.started": "2023-11-30T14:50:45.305042Z"
    },
    "tags": []
   },
   "outputs": [],
   "source": [
    "file_content = extract_paper('/mnt/workspace/askpdf/玉米收储政策改革及其效应分析.pdf', 300)"
   ]
  },
  {
   "cell_type": "code",
   "execution_count": 7,
   "id": "0a4707df-488d-4ebe-a528-5fddcc0afa29",
   "metadata": {
    "execution": {
     "iopub.execute_input": "2023-11-30T14:52:56.750379Z",
     "iopub.status.busy": "2023-11-30T14:52:56.749553Z",
     "iopub.status.idle": "2023-11-30T14:53:18.509588Z",
     "shell.execute_reply": "2023-11-30T14:53:18.508885Z",
     "shell.execute_reply.started": "2023-11-30T14:52:56.750343Z"
    }
   },
   "outputs": [
    {
     "name": "stdout",
     "output_type": "stream",
     "text": [
      "本文分析了2008年末出台的玉米临时收储政策及其改革对玉米市场的影响。主要结论有：\n",
      "\n",
      "1. 玉米临时收储政策实现了粮食增产和农民增收的目标，但也产生了下游产业成本上升、国产玉米竞争力下降、种植结构失衡和生态资源破坏等负面影响。\n",
      "\n",
      "2. 2016年玉米收储政策取消后，玉米价格大幅下跌，农民收入减少，市场出现卖粮难，畜产品市场供给过剩。 \n",
      "\n",
      "3. 玉米市场化改革方案亟待完善，包括确定目标价格水平、创新农民增收思路、优化玉米收购市场结构、建立市场预警机制和推进产业转型升级等。\n",
      "\n",
      "4. 玉米市场化改革对农民和市场产生双重影响，需要进一步研究完善改革方案，引导农民结构调整，维护市场稳定。\n"
     ]
    }
   ],
   "source": [
    "with torch.no_grad():\n",
    "    response, history = model.chat(tokenizer, f\"请帮我总结这篇文章的内容：{file_content}\", history=[])\n",
    "print(response)"
   ]
  },
  {
   "cell_type": "code",
   "execution_count": 8,
   "id": "633ab4ec-c160-45fe-a30a-2fd7a7051dfd",
   "metadata": {
    "execution": {
     "iopub.execute_input": "2023-11-30T14:53:18.511459Z",
     "iopub.status.busy": "2023-11-30T14:53:18.510862Z",
     "iopub.status.idle": "2023-11-30T14:53:35.630123Z",
     "shell.execute_reply": "2023-11-30T14:53:35.629399Z",
     "shell.execute_reply.started": "2023-11-30T14:53:18.511429Z"
    }
   },
   "outputs": [
    {
     "name": "stdout",
     "output_type": "stream",
     "text": [
      "文章的第二章主要讲述了玉米临时收储政策效应及其终结。\n",
      "\n",
      "本章首先介绍了玉米临时收储政策出台的背景和目标，包括调动农民生产积极性、增加粮食产量、保证农民收入稳定等。然后分析了玉米临时收储政策对下游产业、种植结构、生态资源等方面的负面影响。\n",
      "\n",
      "接着，本章比较了玉米临时收储政策与水稻和小麦的最低收购价政策的区别，指出玉米临时收储政策对玉米产量和农民收入的贡献，以及其负面效应。最后，本章分析了玉米临时收储政策终结后，市场化和补贴政策对农民、市场和产业的影响。\n"
     ]
    }
   ],
   "source": [
    "with torch.no_grad():\n",
    "    response, history = model.chat(tokenizer, f\"文章的第二章讲述了什么？\", history=history)\n",
    "print(response)"
   ]
  },
  {
   "cell_type": "code",
   "execution_count": null,
   "id": "bda0ee67-e616-4d53-b4ba-f2cb09bc9461",
   "metadata": {},
   "outputs": [],
   "source": []
  }
 ],
 "metadata": {
  "kernelspec": {
   "display_name": "Python 3 (ipykernel)",
   "language": "python",
   "name": "python3"
  },
  "language_info": {
   "codemirror_mode": {
    "name": "ipython",
    "version": 3
   },
   "file_extension": ".py",
   "mimetype": "text/x-python",
   "name": "python",
   "nbconvert_exporter": "python",
   "pygments_lexer": "ipython3",
   "version": "3.10.12"
  }
 },
 "nbformat": 4,
 "nbformat_minor": 5
}
