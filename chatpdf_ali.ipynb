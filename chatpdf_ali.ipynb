{
 "cells": [
  {
   "cell_type": "code",
   "execution_count": null,
   "id": "7351675d-29a1-408a-a6b3-2e6678f216e3",
   "metadata": {
    "tags": []
   },
   "outputs": [],
   "source": [
    "pip install modelscope\n",
    "pip install accelerate\n",
    "pip install pdfplumber"
   ]
  },
  {
   "cell_type": "code",
   "execution_count": 8,
   "id": "827ddbd0-3cbc-43a4-97dd-59d3e0c110ba",
   "metadata": {
    "execution": {
     "iopub.execute_input": "2023-11-29T15:49:15.020773Z",
     "iopub.status.busy": "2023-11-29T15:49:15.020001Z",
     "iopub.status.idle": "2023-11-29T15:49:15.629209Z",
     "shell.execute_reply": "2023-11-29T15:49:15.628221Z",
     "shell.execute_reply.started": "2023-11-29T15:49:15.020736Z"
    },
    "tags": []
   },
   "outputs": [
    {
     "name": "stdout",
     "output_type": "stream",
     "text": [
      "Wed Nov 29 15:49:15 2023       \n",
      "+-----------------------------------------------------------------------------+\n",
      "| NVIDIA-SMI 470.82.01    Driver Version: 470.82.01    CUDA Version: 11.7     |\n",
      "|-------------------------------+----------------------+----------------------+\n",
      "| GPU  Name        Persistence-M| Bus-Id        Disp.A | Volatile Uncorr. ECC |\n",
      "| Fan  Temp  Perf  Pwr:Usage/Cap|         Memory-Usage | GPU-Util  Compute M. |\n",
      "|                               |                      |               MIG M. |\n",
      "|===============================+======================+======================|\n",
      "|   0  Tesla V100-SXM2...  Off  | 00000000:00:08.0 Off |                    0 |\n",
      "| N/A   36C    P0    56W / 300W |   8297MiB / 16160MiB |      0%      Default |\n",
      "|                               |                      |                  N/A |\n",
      "+-------------------------------+----------------------+----------------------+\n",
      "                                                                               \n",
      "+-----------------------------------------------------------------------------+\n",
      "| Processes:                                                                  |\n",
      "|  GPU   GI   CI        PID   Type   Process name                  GPU Memory |\n",
      "|        ID   ID                                                   Usage      |\n",
      "|=============================================================================|\n",
      "+-----------------------------------------------------------------------------+\n"
     ]
    }
   ],
   "source": [
    "!nvidia-smi"
   ]
  },
  {
   "cell_type": "code",
   "execution_count": 1,
   "id": "6bcf4da9-aa77-40ad-908b-371668c6ff1e",
   "metadata": {
    "ExecutionIndicator": {
     "show": true
    },
    "execution": {
     "iopub.execute_input": "2023-11-29T15:32:55.102162Z",
     "iopub.status.busy": "2023-11-29T15:32:55.101506Z",
     "iopub.status.idle": "2023-11-29T15:33:48.598126Z",
     "shell.execute_reply": "2023-11-29T15:33:48.597279Z",
     "shell.execute_reply.started": "2023-11-29T15:32:55.102131Z"
    },
    "scrolled": true,
    "tags": []
   },
   "outputs": [
    {
     "name": "stderr",
     "output_type": "stream",
     "text": [
      "2023-11-29 15:32:57,219 - modelscope - INFO - PyTorch version 2.0.1+cu117 Found.\n",
      "2023-11-29 15:32:57,223 - modelscope - INFO - Loading ast index from /root/.cache/modelscope/ast_indexer\n",
      "2023-11-29 15:32:57,259 - modelscope - INFO - Loading done! Current index file version is 1.9.1, with md5 39fae4d454abcef3e7701cec25721492 and a total number of 924 components indexed\n",
      "/usr/local/lib/python3.10/dist-packages/tqdm/auto.py:21: TqdmWarning: IProgress not found. Please update jupyter and ipywidgets. See https://ipywidgets.readthedocs.io/en/stable/user_install.html\n",
      "  from .autonotebook import tqdm as notebook_tqdm\n",
      "2023-11-29 15:32:58,345 - modelscope - INFO - Use user-specified model revision: v1.0.0\n",
      "Loading checkpoint shards: 100%|██████████| 7/7 [00:12<00:00,  1.83s/it]\n",
      "Failed to load cpm_kernels:No module named 'cpm_kernels'\n"
     ]
    },
    {
     "name": "stdout",
     "output_type": "stream",
     "text": [
      "你好！很高兴见到你，欢迎问我任何问题。\n",
      "晚上睡不着可能是由多种原因引起的，如压力、焦虑、抑郁、身体不适等。以下是一些建议，希望能帮助你改善睡眠：\n",
      "\n",
      "1. 建立规律的作息时间：每天尽量按时上床和起床，让身体适应规律的作息。\n",
      "\n",
      "2. 创造舒适的睡眠环境：确保床垫和枕头舒适，房间保持适当的温度、湿度和安静。避免在床上看电视、玩手机等容易让人兴奋的活动。\n",
      "\n",
      "3. 避免摄入刺激性食物和饮料：晚上避免摄入咖啡因、尼古丁和酒精等刺激性物质，这些物质会让人更难入睡。\n",
      "\n",
      "4. 进行适当的放松活动：睡前进行一些放松的活动，如深呼吸、瑜伽、冥想等，有助于减轻压力和焦虑，促进睡眠。\n",
      "\n",
      "5. 增加白天户外活动：白天进行适量的户外活动，如散步、跑步、骑自行车等，有助于调节睡眠。\n",
      "\n",
      "6. 尝试睡前放松技巧：有些人发现睡前进行渐进性肌肉松弛、正念冥想等技巧有助于入睡。\n",
      "\n",
      "7. 如有需要，寻求专业帮助：如果长期存在睡眠问题，可能需要寻求专业医生的帮助。\n",
      "\n",
      "希望这些建议能帮助你改善睡眠。如果还有其他问题，请随时问我。\n"
     ]
    }
   ],
   "source": [
    "from modelscope import AutoTokenizer, AutoModel, snapshot_download\n",
    "import torch\n",
    "model_dir = snapshot_download(\"ZhipuAI/chatglm3-6b-32k\", revision = \"v1.0.0\")\n",
    "tokenizer = AutoTokenizer.from_pretrained(model_dir, trust_remote_code=True)\n",
    "\n",
    "# model = AutoModel.from_pretrained(model_dir,load_in_8bit=True,trust_remote_code=True).cuda()\n",
    "model = AutoModel.from_pretrained(model_dir,trust_remote_code=True).quantize(8).cuda()\n",
    "# model = AutoModel.from_pretrained(model_dir,trust_remote_code=True).half().cuda()\n",
    "model = model.eval()\n",
    "response, history = model.chat(tokenizer, \"你好\", history=[])\n",
    "print(response)\n",
    "response, history = model.chat(tokenizer, \"晚上睡不着应该怎么办\", history=history)\n",
    "print(response)"
   ]
  },
  {
   "cell_type": "code",
   "execution_count": 4,
   "id": "e96c383d-4450-424c-8ed8-07629e2b5ea8",
   "metadata": {
    "ExecutionIndicator": {
     "show": true
    },
    "execution": {
     "iopub.execute_input": "2023-11-29T15:22:29.982114Z",
     "iopub.status.busy": "2023-11-29T15:22:29.981753Z",
     "iopub.status.idle": "2023-11-29T15:22:31.412826Z",
     "shell.execute_reply": "2023-11-29T15:22:31.412015Z",
     "shell.execute_reply.started": "2023-11-29T15:22:29.982086Z"
    },
    "tags": []
   },
   "outputs": [],
   "source": [
    "\n",
    "import pdfplumber as ppl\n",
    "import gradio as gr\n",
    "from pathlib import Path\n",
    "\n",
    "\n",
    "\n",
    "def pdf_extract(path, mid_pos=300):\n",
    "    all_pages = []\n",
    "    all_str = \"\"\n",
    "    pdf = ppl.open(path)\n",
    "    for page in pdf.pages:\n",
    "        page_words = page.extract_words()\n",
    "        page_sentences = []\n",
    "        for word in page_words:\n",
    "            page_sentences.append([word['text'], round(word['x0']), round(word['x1']), round(word['top'])] )\n",
    "        sentences_sorted = sorted(page_sentences, key=lambda x:x[3])\n",
    "        sentences_sorted\n",
    "        sentences_left = []\n",
    "        sentences_right = []\n",
    "\n",
    "        for c in sentences_sorted:\n",
    "            if c[1]< mid_pos:\n",
    "                sentences_left.append(c)\n",
    "            else:\n",
    "                sentences_right.append(c)\n",
    "\n",
    "\n",
    "        # 左边按行分开\n",
    "        tmp = []\n",
    "        res_l = []\n",
    "        for i, sen in enumerate(sentences_left):\n",
    "            if i+1>len(sentences_left)-1:\n",
    "                break\n",
    "\n",
    "            if sen[2]<mid_pos and sentences_left[i+1][2]>mid_pos:\n",
    "                res_l.append(tmp)\n",
    "                tmp=[]\n",
    "            else:\n",
    "                tmp.append(sen)\n",
    "        if tmp:\n",
    "            res_l.append(tmp) \n",
    "\n",
    "        row_num = len(res_l)\n",
    "\n",
    "        # 获取分隔位置\n",
    "        sge_index = []\n",
    "        index = 0\n",
    "        for l in res_l:\n",
    "        # 跳过第一行，只要n-1个位置即可\n",
    "            index += 1\n",
    "            if index == 1:\n",
    "                continue\n",
    "            sge_index.append(l[0][-1])\n",
    "\n",
    "        # 前后插入\n",
    "        sge_index.insert(0, -9999)\n",
    "        sge_index.append(9999)\n",
    "\n",
    "        # 右边按行分开\n",
    "        res_r = [[] for i in range(row_num)]\n",
    "        index = 0\n",
    "        for i, sen in enumerate(sentences_right):\n",
    "\n",
    "            if sen[3]<=sge_index[1] and sen[3]>sge_index[0]:\n",
    "                res_r[index].append(sen)\n",
    "            elif sen[3]<=sge_index[2] and sen[3]>sge_index[1]:\n",
    "                res_r[index+1].append(sen)\n",
    "                sge_index.pop(0)\n",
    "                index += 1\n",
    "            else:\n",
    "                sge_index.pop(0)\n",
    "                index += 1\n",
    "\n",
    "        # 合并左右\n",
    "        final = []\n",
    "        for i in range(row_num):\n",
    "            tmp_s = \"\"\n",
    "            for j in res_l[i]:\n",
    "                tmp_s += j[0]\n",
    "            for k in res_r[i]:\n",
    "                tmp_s += k[0]\n",
    "            final.append(tmp_s)\n",
    "\n",
    "        # 把当前页面放入所有页面结果\n",
    "    #     all_pages.append(final)\n",
    "    # return all_pages\n",
    "    \n",
    "        all_str += \"\\n\".join(final)\n",
    "    return all_str"
   ]
  },
  {
   "cell_type": "code",
   "execution_count": 2,
   "id": "44416787-c442-4e45-b357-041003db05d7",
   "metadata": {
    "ExecutionIndicator": {
     "show": true
    },
    "execution": {
     "iopub.execute_input": "2023-11-29T15:33:48.600238Z",
     "iopub.status.busy": "2023-11-29T15:33:48.599698Z",
     "iopub.status.idle": "2023-11-29T15:33:49.787712Z",
     "shell.execute_reply": "2023-11-29T15:33:49.786840Z",
     "shell.execute_reply.started": "2023-11-29T15:33:48.600211Z"
    },
    "tags": []
   },
   "outputs": [],
   "source": [
    "import pdfplumber as ppl\n",
    "import gradio as gr\n",
    "from pathlib import Path\n",
    "\n",
    "def extract_columns(filename, page_center=290):\n",
    "    def _is_chinese(word):\n",
    "        for ch in word:\n",
    "            if '\\u4e00' <= ch <= '\\u9fff':\n",
    "                return True\n",
    "        return False\n",
    "    \n",
    "\n",
    "        # 一个经验值，即pdf文档页面中间的x坐标，用于把字符分成左右两部分。\n",
    "        \n",
    "    pdf = ppl.open(filename)\n",
    "    paras = []\n",
    "    for page in pdf.pages:\n",
    "        page_words = page.extract_words()\n",
    "        # x0：单词的第一个字符的x坐标\n",
    "        # x1：单词的最后一个字符的x坐标\n",
    "        # top：单词的第一个字符的y坐标\n",
    "        sentence = [[word['text'], round(word['x0']), round(word['x1']), round(word['top'])] for word in page_words]\n",
    "        rows = []\n",
    "        tmp = []\n",
    "        for word in sentence:\n",
    "            # 前后单词y坐标相差大于4（这里4也是一个经验值，一般不超过10），说明不是同一行\n",
    "            if tmp and abs(word[-1] - tmp[-1][-1]) > 4:\n",
    "                # 另起一行\n",
    "                rows.append(tmp)\n",
    "                tmp = []\n",
    "            tmp.append(word)\n",
    "        if tmp:\n",
    "            rows.append(tmp)\n",
    "\n",
    "        rows_in_page = []\n",
    "        left_block, right_block = [], []\n",
    "\n",
    "        for row in rows:\n",
    "            is_two_columns=False\n",
    "            row_left, row_right = [], []\n",
    "            # row是一个二维list，表示一行的内容，形式如：[[text, x0, x1, top], [[text, x0, x1, top]], ...]\n",
    "            for i in range(len(row)):\n",
    "\n",
    "                # 用单词最后一个字符的x坐标判断属于左边还是右边\n",
    "                if row[i][2]<page_center:\n",
    "                    row_left.append(row[i])\n",
    "                else:\n",
    "                    row_right.append(row[i])\n",
    "                # 前后两个单词相距超过10（说明中间有较长的空白），并且前后两个单词分别属于左右两边，则说明这一行是列式布局\n",
    "                if i>0 and row[i][1]- row[i-1][2]>10 and row[i][1]>page_center and row[i-1][2]<page_center:\n",
    "                    is_two_columns=True\n",
    "            if is_two_columns:\n",
    "                left_block.extend(row_left)\n",
    "                right_block.extend(row_right)\n",
    "            else:\n",
    "                # 把之前的left和right添加，先左后右\n",
    "                if left_block:\n",
    "                    rows_in_page.extend(left_block)\n",
    "                if right_block:\n",
    "                    rows_in_page.extend(right_block)\n",
    "\n",
    "                # 这一行不是列式布局，则正常添加当前行\n",
    "                rows_in_page.extend(row)\n",
    "\n",
    "                # 清空left和right\n",
    "                left_block=[]\n",
    "                right_block=[]\n",
    "\n",
    "        # 中英文字符空格处理\n",
    "        txt = [x[0] if _is_chinese(x[0]) else ' '+x[0] for x in rows_in_page]\n",
    "        paras.extend(txt)\n",
    "\n",
    "    # chunks = []\n",
    "    # chunk = ''\n",
    "    # for para in paras:\n",
    "    #     if len_func(chunk + para) < chunk_size:\n",
    "    #         chunk += para\n",
    "    #     else:\n",
    "    #         chunks.append(chunk)\n",
    "    #         chunk = para\n",
    "    # if chunk:\n",
    "    #     chunks.append(chunk)\n",
    "    # return chunks\n",
    "    return \"\".join(paras)"
   ]
  },
  {
   "cell_type": "code",
   "execution_count": 4,
   "id": "5477f49c-13ed-46c0-8d56-9ce2d2b1451f",
   "metadata": {
    "execution": {
     "iopub.execute_input": "2023-11-28T14:55:22.157110Z",
     "iopub.status.busy": "2023-11-28T14:55:22.156629Z",
     "iopub.status.idle": "2023-11-28T14:55:24.217406Z",
     "shell.execute_reply": "2023-11-28T14:55:24.216640Z",
     "shell.execute_reply.started": "2023-11-28T14:55:22.157078Z"
    },
    "tags": []
   },
   "outputs": [],
   "source": [
    "file_res = pdf_extract('/mnt/workspace/askpdf/玉米收储政策改革及其效应分析.pdf')"
   ]
  },
  {
   "cell_type": "code",
   "execution_count": 3,
   "id": "ce3ec97c-1e3f-48ea-879a-20bdc96cbccf",
   "metadata": {
    "ExecutionIndicator": {
     "show": true
    },
    "execution": {
     "iopub.execute_input": "2023-11-29T15:33:49.789146Z",
     "iopub.status.busy": "2023-11-29T15:33:49.788881Z",
     "iopub.status.idle": "2023-11-29T15:33:55.367119Z",
     "shell.execute_reply": "2023-11-29T15:33:55.366256Z",
     "shell.execute_reply.started": "2023-11-29T15:33:49.789124Z"
    },
    "tags": []
   },
   "outputs": [],
   "source": [
    "file_res = extract_columns('/mnt/workspace/askpdf/Adversaria.pdf')"
   ]
  },
  {
   "cell_type": "code",
   "execution_count": 5,
   "id": "399513bb-5463-488e-97cb-2457785aee98",
   "metadata": {
    "ExecutionIndicator": {
     "show": true
    },
    "execution": {
     "iopub.execute_input": "2023-11-28T14:55:24.935116Z",
     "iopub.status.busy": "2023-11-28T14:55:24.934631Z",
     "iopub.status.idle": "2023-11-28T14:55:49.052629Z",
     "shell.execute_reply": "2023-11-28T14:55:49.051712Z",
     "shell.execute_reply.started": "2023-11-28T14:55:24.935088Z"
    },
    "tags": []
   },
   "outputs": [
    {
     "name": "stdout",
     "output_type": "stream",
     "text": [
      "本文分析了玉米收储政策改革及其效应。主要结论有：\n",
      "\n",
      "1. 玉米收储政策调整后，农户结构调整阵痛不可避免。农民决定是否种植玉米受市场价格和补贴影响。预计2017年玉米种植面积将减少。\n",
      "\n",
      "2. 农民依然面临卖粮难风险。2016年秋粮上市后，农民卖粮困难，出现排队卖粮现象。这需要完善市场结构，使市场决定价格，才能化解。 \n",
      "\n",
      "3. 玉米价格下跌对下游企业和养殖业有利，对农民不利。政府应加快完善改革方案，不断创新农民增收思路，优化玉米收购市场结构，为农民提供更多公共服务。\n",
      "\n",
      "4. 玉米价格的变动取决于市场供求关系，不再取决于政策。农民种植玉米收益将转向降低成本、集约经营、规模经营等方面。\n",
      "\n",
      "5. 政府应关注农民收入变化，完善价格支持政策，帮助农民适应玉米价格市场化的新环境。\n"
     ]
    }
   ],
   "source": [
    "with torch.no_grad():\n",
    "    response, history = model.chat(tokenizer, f\"请帮我总结这篇文章的内容：{file_res}\", history=[])\n",
    "print(response)"
   ]
  },
  {
   "cell_type": "code",
   "execution_count": 8,
   "id": "d5ba283c-8132-4a8e-ab9e-1758d5c3c68c",
   "metadata": {
    "execution": {
     "iopub.execute_input": "2023-11-28T14:57:40.145258Z",
     "iopub.status.busy": "2023-11-28T14:57:40.144721Z",
     "iopub.status.idle": "2023-11-28T14:58:16.079250Z",
     "shell.execute_reply": "2023-11-28T14:58:16.078512Z",
     "shell.execute_reply.started": "2023-11-28T14:57:40.145225Z"
    }
   },
   "outputs": [
    {
     "name": "stdout",
     "output_type": "stream",
     "text": [
      "文章的第二章主要讲述了玉米临时收储政策效应及其终结。\n",
      "\n",
      "首先，文章分析了玉米临时收储政策的基本政策内涵，即国家在每年一定的收购价格向农民敞开收购玉米。这一政策在2008年出台，旨在调动农民种粮积极性，增加粮食产量，实现粮食增产、农民增收的目标。\n",
      "\n",
      "然后，文章分析了玉米临时收储政策所产生的负面效应。主要体现在：\n",
      "\n",
      "1. 玉米价格的上涨导致下游产业成本急剧提升，玉米加工业开工率不足，玉米深加工企业亏损，进口玉米挤占国产玉米市场。\n",
      "\n",
      "2. 玉米价格上涨导致东北地区粮食种植结构失衡，农民多种玉米、少种大豆，大豆种植面积减少。\n",
      "\n",
      "3. 玉米价格上涨导致东北地区粮食种植面积增加，以开荒方式扩大玉米种植规模，造成生态资源环境破坏。\n",
      "\n",
      "4. 玉米临时收储政策给国家财政带来沉重负担。\n",
      "\n",
      "最后，文章指出玉米临时收储政策所产生的负面效应已经超过了正面效应，其对下游产业、对种植业结构、对生态资源环境所带来的种种负面影响，以及给国家财政带来的沉重负担，使这一政策难以为继。2015年秋粮上市之际，在国家连续5次提升玉米临储价格之后，首次下调玉米临储价格，释放了缩减玉米供给的信号。2016年，国家取消了玉米临时收储政策，决定实施“市场化收购”加“补贴”的新机制。\n"
     ]
    }
   ],
   "source": [
    "with torch.no_grad():\n",
    "    response, history = model.chat(tokenizer, f\"文章的第二章讲述了什么？\", history=history)\n",
    "print(response)"
   ]
  },
  {
   "cell_type": "code",
   "execution_count": null,
   "id": "c17d428f-8830-45ed-8200-78a5dcb86683",
   "metadata": {},
   "outputs": [],
   "source": []
  },
  {
   "cell_type": "code",
   "execution_count": 6,
   "id": "92966826-1576-4362-8a34-5c7600db27e8",
   "metadata": {
    "ExecutionIndicator": {
     "show": true
    },
    "execution": {
     "iopub.execute_input": "2023-11-29T15:34:13.669599Z",
     "iopub.status.busy": "2023-11-29T15:34:13.668940Z",
     "iopub.status.idle": "2023-11-29T15:34:27.636433Z",
     "shell.execute_reply": "2023-11-29T15:34:27.635608Z",
     "shell.execute_reply.started": "2023-11-29T15:34:13.669566Z"
    },
    "tags": []
   },
   "outputs": [
    {
     "name": "stdout",
     "output_type": "stream",
     "text": [
      "这篇文章主要探讨了深度神经网络（DNNs）在图数据上的对抗攻击和防御问题。由于DNNs在许多应用场景中表现出色，如图像分类、文本生成、生物识别等，因此它们被广泛应用于各种任务。然而，最近的研究表明，尽管DNNs在某些安全关键任务上得到了应用，如自动驾驶、恶意软件检测等，但它们仍然容易受到对抗攻击的影响。尽管已经有一些研究探讨了对抗攻击和防御策略，如自动驾驶领域，但针对图数据的防御策略仍具有挑战性。由于图数据的特殊结构，DNNs在处理图数据时可能变得脆弱。因此，研究图数据上的对抗攻击和防御策略对于确保图数据的可靠性和安全性至关重要。\n"
     ]
    }
   ],
   "source": [
    "with torch.no_grad():\n",
    "    response, history = model.chat(tokenizer, f\"请帮我总结这篇文章的内容：{file_res}\"[:1000], history=[])\n",
    "print(response)"
   ]
  },
  {
   "cell_type": "code",
   "execution_count": 7,
   "id": "7bd6cdcd-3064-4f25-bd9d-88109932afcf",
   "metadata": {
    "ExecutionIndicator": {
     "show": true
    },
    "execution": {
     "iopub.execute_input": "2023-11-29T15:35:56.952705Z",
     "iopub.status.busy": "2023-11-29T15:35:56.951945Z",
     "iopub.status.idle": "2023-11-29T15:36:03.588860Z",
     "shell.execute_reply": "2023-11-29T15:36:03.588050Z",
     "shell.execute_reply.started": "2023-11-29T15:35:56.952671Z"
    },
    "tags": []
   },
   "outputs": [
    {
     "name": "stdout",
     "output_type": "stream",
     "text": [
      "抱歉，我在之前的回答中犯了一个错误。经过再次查找，我发现这篇论文并没有提出具体的方法。这篇论文对深度神经网络（DNNs）在图数据上的对抗攻击和防御问题进行了调查，指出了DNNs在处理图数据时可能存在的安全问题，但并未提出相应的解决方案。在此向您表示歉意。\n"
     ]
    }
   ],
   "source": [
    "with torch.no_grad():\n",
    "    response, history = model.chat(tokenizer, '这篇论文提出了什么方法', history=history)\n",
    "print(response)"
   ]
  },
  {
   "cell_type": "code",
   "execution_count": null,
   "id": "e27470cc-07dc-40d1-a759-7bcee9bf1944",
   "metadata": {},
   "outputs": [],
   "source": []
  }
 ],
 "metadata": {
  "kernelspec": {
   "display_name": "Python 3 (ipykernel)",
   "language": "python",
   "name": "python3"
  },
  "language_info": {
   "codemirror_mode": {
    "name": "ipython",
    "version": 3
   },
   "file_extension": ".py",
   "mimetype": "text/x-python",
   "name": "python",
   "nbconvert_exporter": "python",
   "pygments_lexer": "ipython3",
   "version": "3.10.12"
  }
 },
 "nbformat": 4,
 "nbformat_minor": 5
}
